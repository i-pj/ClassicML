{
 "cells": [
  {
   "cell_type": "code",
   "execution_count": 1,
   "metadata": {},
   "outputs": [],
   "source": [
    "import torch\n",
    "import torchvision.datasets as datasets\n",
    "import torch.nn as nn\n",
    "import torch.optim as optim\n",
    "import matplotlib.pyplot as plt\n",
    "from torch.utils.data import DataLoader\n",
    "from torchvision.transforms import transforms\n"
   ]
  },
  {
   "cell_type": "code",
   "execution_count": 2,
   "metadata": {},
   "outputs": [],
   "source": [
    "#Parameters\n",
    "epochs = 50\n",
    "lr = 0.002\n",
    "batch_size = 64"
   ]
  },
  {
   "cell_type": "code",
   "execution_count": 4,
   "metadata": {},
   "outputs": [],
   "source": [
    "Transform = transforms.Compose([transforms.ToTensor(),\n",
    "                                transforms.Normalize((0.5,), (0.5,))])"
   ]
  },
  {
   "cell_type": "code",
   "execution_count": 5,
   "metadata": {},
   "outputs": [],
   "source": [
    "# data loader\n",
    "mnist_trainset = datasets.MNIST(root='./mnist', train=True, download=True, transform=Transform)\n",
    "mnist_testset = datasets.MNIST(root='./mnist', train=False, download=True, transform=Transform)\n",
    "train_loader = DataLoader(mnist_trainset, batch_size=batch_size, shuffle=True)\n",
    "test_loader = DataLoader(mnist_testset, batch_size=batch_size, shuffle=False)"
   ]
  },
  {
   "cell_type": "code",
   "execution_count": 6,
   "metadata": {},
   "outputs": [],
   "source": [
    "# Model Architecture with 2 hidden layers\n",
    "class MLP(nn.Module): \n",
    "    def __init__(self):\n",
    "        super(MLP, self).__init__()\n",
    "        self.fc1 = nn.Linear(784, 128)  \n",
    "        self.relu1 = nn.ReLU()\n",
    "        self.fc2 = nn.Linear(128, 256)\n",
    "        self.relu2 = nn.ReLU()\n",
    "        self.fc3 = nn.Linear(256, 128)\n",
    "        self.relu3 = nn.ReLU()\n",
    "        self.fc4 = nn.Linear(128, 10)\n",
    "        self.softmax = nn.Softmax(dim=1)\n",
    "\n",
    "    def forward(self, x):\n",
    "        x = x.view(-1, 784)\n",
    "        x = self.fc1(x)\n",
    "        x = self.relu1(x)\n",
    "        x = self.fc2(x)\n",
    "        x = self.relu2(x)\n",
    "        x = self.fc3(x)\n",
    "        x = self.relu3(x)\n",
    "        out = self.fc4(x)\n",
    "        out = self.softmax(out)\n",
    "        return out\n"
   ]
  },
  {
   "cell_type": "code",
   "execution_count": 7,
   "metadata": {},
   "outputs": [],
   "source": [
    "t = torch.rand(1, 1, 28, 28)\n",
    "model = MLP()\n",
    "out = model(t)"
   ]
  },
  {
   "cell_type": "code",
   "execution_count": null,
   "metadata": {},
   "outputs": [],
   "source": []
  },
  {
   "cell_type": "code",
   "execution_count": 8,
   "metadata": {},
   "outputs": [
    {
     "name": "stdout",
     "output_type": "stream",
     "text": [
      "Epoch: 1  Loss: 1.738081\n",
      "Test Accuracy: 81.1000 %\n",
      "Epoch: 2  Loss: 1.655752\n",
      "Test Accuracy: 79.3500 %\n",
      "Epoch: 3  Loss: 1.638808\n",
      "Test Accuracy: 87.2400 %\n",
      "Epoch: 4  Loss: 1.583031\n",
      "Test Accuracy: 89.2000 %\n",
      "Epoch: 5  Loss: 1.566024\n",
      "Test Accuracy: 92.4300 %\n",
      "Epoch: 6  Loss: 1.572092\n",
      "Test Accuracy: 89.3300 %\n",
      "Epoch: 7  Loss: 1.576125\n",
      "Test Accuracy: 90.7600 %\n",
      "Epoch: 8  Loss: 1.566304\n",
      "Test Accuracy: 92.2000 %\n",
      "Epoch: 9  Loss: 1.564720\n",
      "Test Accuracy: 91.1800 %\n",
      "Epoch: 10  Loss: 1.572283\n",
      "Test Accuracy: 91.3700 %\n",
      "Epoch: 11  Loss: 1.585221\n",
      "Test Accuracy: 90.1700 %\n",
      "Epoch: 12  Loss: 1.596045\n",
      "Test Accuracy: 89.8800 %\n",
      "Epoch: 13  Loss: 1.573238\n",
      "Test Accuracy: 92.2800 %\n",
      "Epoch: 14  Loss: 1.574133\n",
      "Test Accuracy: 87.9900 %\n",
      "Epoch: 15  Loss: 1.586111\n",
      "Test Accuracy: 81.2800 %\n",
      "Epoch: 16  Loss: 1.597158\n",
      "Test Accuracy: 78.2500 %\n",
      "Epoch: 17  Loss: 1.582580\n",
      "Test Accuracy: 88.7600 %\n",
      "Epoch: 18  Loss: 1.592565\n",
      "Test Accuracy: 91.1700 %\n",
      "Epoch: 19  Loss: 1.619128\n",
      "Test Accuracy: 88.3100 %\n",
      "Epoch: 20  Loss: 1.605582\n",
      "Test Accuracy: 84.5800 %\n",
      "Epoch: 21  Loss: 1.598750\n",
      "Test Accuracy: 88.8300 %\n",
      "Epoch: 22  Loss: 1.607196\n",
      "Test Accuracy: 87.7800 %\n",
      "Epoch: 23  Loss: 1.578501\n",
      "Test Accuracy: 87.6000 %\n",
      "Epoch: 24  Loss: 1.595061\n",
      "Test Accuracy: 89.3000 %\n",
      "Epoch: 25  Loss: 1.592474\n",
      "Test Accuracy: 88.3600 %\n",
      "Epoch: 26  Loss: 1.601497\n",
      "Test Accuracy: 88.2300 %\n",
      "Epoch: 27  Loss: 1.643482\n",
      "Test Accuracy: 85.4500 %\n",
      "Epoch: 28  Loss: 1.635488\n",
      "Test Accuracy: 81.0400 %\n",
      "Epoch: 29  Loss: 1.610678\n",
      "Test Accuracy: 87.4300 %\n",
      "Epoch: 30  Loss: 1.594100\n",
      "Test Accuracy: 87.8700 %\n",
      "Epoch: 31  Loss: 1.646099\n",
      "Test Accuracy: 80.5800 %\n",
      "Epoch: 32  Loss: 1.614028\n",
      "Test Accuracy: 90.9600 %\n",
      "Epoch: 33  Loss: 1.653277\n",
      "Test Accuracy: 80.8900 %\n",
      "Epoch: 34  Loss: 1.661690\n",
      "Test Accuracy: 86.7400 %\n",
      "Epoch: 35  Loss: 1.606148\n",
      "Test Accuracy: 89.5100 %\n",
      "Epoch: 36  Loss: 1.638024\n",
      "Test Accuracy: 85.4800 %\n",
      "Epoch: 37  Loss: 1.606538\n",
      "Test Accuracy: 90.1200 %\n",
      "Epoch: 38  Loss: 1.627928\n",
      "Test Accuracy: 82.5000 %\n",
      "Epoch: 39  Loss: 1.617771\n",
      "Test Accuracy: 64.1300 %\n",
      "Epoch: 40  Loss: 1.688917\n",
      "Test Accuracy: 87.8200 %\n",
      "Epoch: 41  Loss: 1.595234\n",
      "Test Accuracy: 88.5600 %\n",
      "Epoch: 42  Loss: 1.585408\n",
      "Test Accuracy: 86.5200 %\n",
      "Epoch: 43  Loss: 1.615131\n",
      "Test Accuracy: 87.5100 %\n",
      "Epoch: 44  Loss: 1.618551\n",
      "Test Accuracy: 84.2400 %\n",
      "Epoch: 45  Loss: 1.644853\n",
      "Test Accuracy: 78.1200 %\n",
      "Epoch: 46  Loss: 1.643658\n",
      "Test Accuracy: 86.5800 %\n",
      "Epoch: 47  Loss: 1.645051\n",
      "Test Accuracy: 85.1500 %\n",
      "Epoch: 48  Loss: 1.669430\n",
      "Test Accuracy: 82.3700 %\n",
      "Epoch: 49  Loss: 1.639198\n",
      "Test Accuracy: 82.6000 %\n",
      "Epoch: 50  Loss: 1.600040\n",
      "Test Accuracy: 85.2200 %\n"
     ]
    }
   ],
   "source": [
    "# Training\n",
    "model = MLP()\n",
    "criterion = nn.CrossEntropyLoss()\n",
    "optimizer = optim.Adam(model.parameters(), lr=lr)\n",
    "loss_list = []\n",
    "acc_list = []\n",
    "for epoch in range(epochs):\n",
    "    loss_sum = 0\n",
    "    for i, (images, labels) in enumerate(train_loader):\n",
    "        optimizer.zero_grad()\n",
    "        outputs = model(images)\n",
    "        loss = criterion(outputs, labels)\n",
    "        loss.backward()\n",
    "        optimizer.step()\n",
    "        loss_sum += loss.item()\n",
    "        epoch_loss = loss_sum/len(train_loader)\n",
    "    loss_list.append(epoch_loss)\n",
    "    print('Epoch: {}  Loss: {:.6f}'.format(epoch+1, loss_sum/len(train_loader)))\n",
    "\n",
    "    # Testing\n",
    "    correct = 0\n",
    "    total = 0\n",
    "    for images, labels in test_loader:\n",
    "        outputs = model(images)\n",
    "        _, predicted = torch.max(outputs.data, 1)\n",
    "        total += labels.size(0)\n",
    "        correct += (predicted==labels).sum().item()\n",
    "    acc = correct/total\n",
    "    acc_list.append(acc)\n",
    "\n",
    "    print('Test Accuracy: {:.4f} %'.format(100*correct/total))"
   ]
  },
  {
   "cell_type": "code",
   "execution_count": 33,
   "metadata": {},
   "outputs": [],
   "source": [
    "image, label = mnist_trainset[1000]"
   ]
  },
  {
   "cell_type": "code",
   "execution_count": 34,
   "metadata": {},
   "outputs": [
    {
     "data": {
      "text/plain": [
       "(<matplotlib.image.AxesImage at 0x29a1e6d50>, 0)"
      ]
     },
     "execution_count": 34,
     "metadata": {},
     "output_type": "execute_result"
    },
    {
     "data": {
      "image/png": "[encoded data removed]",
      "text/plain": [
       "<Figure size 640x480 with 1 Axes>"
      ]
     },
     "metadata": {},
     "output_type": "display_data"
    }
   ],
   "source": [
    "plt.imshow(image.squeeze(), cmap='gray'), label\n"
   ]
  },
  {
   "cell_type": "code",
   "execution_count": 35,
   "metadata": {},
   "outputs": [
    {
     "data": {
      "text/plain": [
       "0"
      ]
     },
     "execution_count": 35,
     "metadata": {},
     "output_type": "execute_result"
    }
   ],
   "source": [
    "outputs = model(image.unsqueeze(0))\n",
    "_, predicted = torch.max(outputs.data, 1)\n",
    "predicted.item()"
   ]
  },
  {
   "cell_type": "code",
   "execution_count": 36,
   "metadata": {},
   "outputs": [
    {
     "data": {
      "text/plain": [
       "tensor([[1., 0., 0., 0., 0., 0., 0., 0., 0., 0.]], grad_fn=<SoftmaxBackward0>)"
      ]
     },
     "execution_count": 36,
     "metadata": {},
     "output_type": "execute_result"
    }
   ],
   "source": [
    "outputs"
   ]
  }
 ],
 "metadata": {
  "kernelspec": {
   "display_name": "torch-base",
   "language": "python",
   "name": "python3"
  },
  "language_info": {
   "codemirror_mode": {
    "name": "ipython",
    "version": 3
   },
   "file_extension": ".py",
   "mimetype": "text/x-python",
   "name": "python",
   "nbconvert_exporter": "python",
   "pygments_lexer": "ipython3",
   "version": "3.11.7"
  }
 },
 "nbformat": 4,
 "nbformat_minor": 2
}
